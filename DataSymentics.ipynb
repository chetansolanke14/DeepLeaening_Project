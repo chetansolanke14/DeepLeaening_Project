{
  "nbformat": 4,
  "nbformat_minor": 0,
  "metadata": {
    "colab": {
      "name": "DataSymentics.ipynb",
      "provenance": [],
      "include_colab_link": true
    },
    "kernelspec": {
      "name": "python3",
      "display_name": "Python 3"
    }
  },
  "cells": [
    {
      "cell_type": "markdown",
      "metadata": {
        "id": "view-in-github",
        "colab_type": "text"
      },
      "source": [
        "<a href=\"https://colab.research.google.com/github/chetansolanke14/DeepLearning_Project/blob/master/DataSymentics.ipynb\" target=\"_parent\"><img src=\"https://colab.research.google.com/assets/colab-badge.svg\" alt=\"Open In Colab\"/></a>"
      ]
    },
    {
      "cell_type": "markdown",
      "metadata": {
        "id": "L7Zbppw54qkX",
        "colab_type": "text"
      },
      "source": [
        "Import datasets from the skillenza "
      ]
    },
    {
      "cell_type": "code",
      "metadata": {
        "id": "cEwQWOA6ZOTd",
        "colab_type": "code",
        "outputId": "028c0c99-bb48-4993-fb51-6d9382813b13",
        "colab": {
          "base_uri": "https://localhost:8080/",
          "height": 204
        }
      },
      "source": [
        "#!wget https://cdn.skillenza.com/files/8a6674bb-25af-475c-84b5-4f5d103593ec/training_1.csv"
      ],
      "execution_count": 1,
      "outputs": [
        {
          "output_type": "stream",
          "text": [
            "--2019-09-27 13:15:31--  https://cdn.skillenza.com/files/8a6674bb-25af-475c-84b5-4f5d103593ec/training_1.csv\n",
            "Resolving cdn.skillenza.com (cdn.skillenza.com)... 13.32.255.149, 13.32.255.172, 13.32.255.186, ...\n",
            "Connecting to cdn.skillenza.com (cdn.skillenza.com)|13.32.255.149|:443... connected.\n",
            "HTTP request sent, awaiting response... 200 OK\n",
            "Length: 344989 (337K) [text/csv]\n",
            "Saving to: ‘training_1.csv’\n",
            "\n",
            "training_1.csv      100%[===================>] 336.90K   520KB/s    in 0.6s    \n",
            "\n",
            "2019-09-27 13:15:33 (520 KB/s) - ‘training_1.csv’ saved [344989/344989]\n",
            "\n"
          ],
          "name": "stdout"
        }
      ]
    },
    {
      "cell_type": "code",
      "metadata": {
        "id": "Q5ddPvKUZQBg",
        "colab_type": "code",
        "outputId": "6f949486-8e90-45a2-8127-c1523b2be876",
        "colab": {
          "base_uri": "https://localhost:8080/",
          "height": 204
        }
      },
      "source": [
        "#!wget https://cdn.skillenza.com/files/a3344af0-f63d-43c4-a2e6-007175a6ebb2/test.csv"
      ],
      "execution_count": 2,
      "outputs": [
        {
          "output_type": "stream",
          "text": [
            "--2019-09-27 13:15:39--  https://cdn.skillenza.com/files/a3344af0-f63d-43c4-a2e6-007175a6ebb2/test.csv\n",
            "Resolving cdn.skillenza.com (cdn.skillenza.com)... 13.32.255.149, 13.32.255.172, 13.32.255.186, ...\n",
            "Connecting to cdn.skillenza.com (cdn.skillenza.com)|13.32.255.149|:443... connected.\n",
            "HTTP request sent, awaiting response... 200 OK\n",
            "Length: 166711 (163K) [text/csv]\n",
            "Saving to: ‘test.csv’\n",
            "\n",
            "test.csv            100%[===================>] 162.80K   333KB/s    in 0.5s    \n",
            "\n",
            "2019-09-27 13:15:40 (333 KB/s) - ‘test.csv’ saved [166711/166711]\n",
            "\n"
          ],
          "name": "stdout"
        }
      ]
    },
    {
      "cell_type": "code",
      "metadata": {
        "id": "-B6q5KISZVOd",
        "colab_type": "code",
        "outputId": "ce1337cc-6bd1-47b9-cdd6-61a5bee0c079",
        "colab": {
          "base_uri": "https://localhost:8080/",
          "height": 204
        }
      },
      "source": [
        "#!wget https://cdn.skillenza.com/files/08446646-a4f1-4322-84ba-c1615c385e3b/sample_submission.csv"
      ],
      "execution_count": 3,
      "outputs": [
        {
          "output_type": "stream",
          "text": [
            "--2019-09-27 13:15:53--  https://cdn.skillenza.com/files/08446646-a4f1-4322-84ba-c1615c385e3b/sample_submission.csv\n",
            "Resolving cdn.skillenza.com (cdn.skillenza.com)... 13.32.255.149, 13.32.255.172, 13.32.255.186, ...\n",
            "Connecting to cdn.skillenza.com (cdn.skillenza.com)|13.32.255.149|:443... connected.\n",
            "HTTP request sent, awaiting response... 200 OK\n",
            "Length: 8462 (8.3K) [text/csv]\n",
            "Saving to: ‘sample_submission.csv’\n",
            "\n",
            "sample_submission.c 100%[===================>]   8.26K  --.-KB/s    in 0s      \n",
            "\n",
            "2019-09-27 13:15:53 (151 MB/s) - ‘sample_submission.csv’ saved [8462/8462]\n",
            "\n"
          ],
          "name": "stdout"
        }
      ]
    },
    {
      "cell_type": "markdown",
      "metadata": {
        "id": "MZ7x1rKN5C_Q",
        "colab_type": "text"
      },
      "source": [
        "Import Different libraries"
      ]
    },
    {
      "cell_type": "code",
      "metadata": {
        "id": "lEhTjvyHZaPe",
        "colab_type": "code",
        "colab": {}
      },
      "source": [
        "import pandas as pd\n",
        "import numpy as np\n",
        "from sklearn.feature_extraction.text import CountVectorizer\n",
        "from sklearn.model_selection import train_test_split \n",
        "from sklearn.feature_extraction.text import TfidfTransformer\n",
        "from sklearn.naive_bayes import MultinomialNB\n",
        "from sklearn.pipeline import Pipeline\n",
        "from sklearn.linear_model import SGDClassifier\n",
        "from sklearn.ensemble import RandomForestClassifier\n",
        "from sklearn.metrics import classification_report,accuracy_score,confusion_matrix,f1_score\n",
        "from sklearn.model_selection import GridSearchCV"
      ],
      "execution_count": 0,
      "outputs": []
    },
    {
      "cell_type": "markdown",
      "metadata": {
        "id": "WfL3dITP5Gdo",
        "colab_type": "text"
      },
      "source": [
        "Read data from test train and submission"
      ]
    },
    {
      "cell_type": "code",
      "metadata": {
        "id": "2j9MsnouZnh-",
        "colab_type": "code",
        "colab": {}
      },
      "source": [
        "test = pd.read_csv('test.csv')\n",
        "train = pd.read_csv('training_1.csv')\n",
        "sample_Sub = pd.read_csv('sample_submission.csv')"
      ],
      "execution_count": 0,
      "outputs": []
    },
    {
      "cell_type": "code",
      "metadata": {
        "id": "rwmTPSL7Z1M2",
        "colab_type": "code",
        "outputId": "999718c9-3fd7-43f3-d9c5-fbe62729b83b",
        "colab": {
          "base_uri": "https://localhost:8080/",
          "height": 204
        }
      },
      "source": [
        "test.head()"
      ],
      "execution_count": 265,
      "outputs": [
        {
          "output_type": "execute_result",
          "data": {
            "text/html": [
              "<div>\n",
              "<style scoped>\n",
              "    .dataframe tbody tr th:only-of-type {\n",
              "        vertical-align: middle;\n",
              "    }\n",
              "\n",
              "    .dataframe tbody tr th {\n",
              "        vertical-align: top;\n",
              "    }\n",
              "\n",
              "    .dataframe thead th {\n",
              "        text-align: right;\n",
              "    }\n",
              "</style>\n",
              "<table border=\"1\" class=\"dataframe\">\n",
              "  <thead>\n",
              "    <tr style=\"text-align: right;\">\n",
              "      <th></th>\n",
              "      <th>id</th>\n",
              "      <th>text</th>\n",
              "    </tr>\n",
              "  </thead>\n",
              "  <tbody>\n",
              "    <tr>\n",
              "      <th>0</th>\n",
              "      <td>3729</td>\n",
              "      <td>2705 4888 5050 5815 2472 5157 652 2117 2110 32...</td>\n",
              "    </tr>\n",
              "    <tr>\n",
              "      <th>1</th>\n",
              "      <td>3732</td>\n",
              "      <td>389 4978 315 5178 513 5249 5853 3267 315 3891 ...</td>\n",
              "    </tr>\n",
              "    <tr>\n",
              "      <th>2</th>\n",
              "      <td>3761</td>\n",
              "      <td>4478 4231 4858 2638 4231 867 371 686 4888 4179...</td>\n",
              "    </tr>\n",
              "    <tr>\n",
              "      <th>3</th>\n",
              "      <td>5</td>\n",
              "      <td>3015 1911 112 3905 825 337 315 1693 4677 825 5...</td>\n",
              "    </tr>\n",
              "    <tr>\n",
              "      <th>4</th>\n",
              "      <td>7</td>\n",
              "      <td>5136 3918 5153 2023 3091 4159 315 3711 1409 27...</td>\n",
              "    </tr>\n",
              "  </tbody>\n",
              "</table>\n",
              "</div>"
            ],
            "text/plain": [
              "     id                                               text\n",
              "0  3729  2705 4888 5050 5815 2472 5157 652 2117 2110 32...\n",
              "1  3732  389 4978 315 5178 513 5249 5853 3267 315 3891 ...\n",
              "2  3761  4478 4231 4858 2638 4231 867 371 686 4888 4179...\n",
              "3     5  3015 1911 112 3905 825 337 315 1693 4677 825 5...\n",
              "4     7  5136 3918 5153 2023 3091 4159 315 3711 1409 27..."
            ]
          },
          "metadata": {
            "tags": []
          },
          "execution_count": 265
        }
      ]
    },
    {
      "cell_type": "code",
      "metadata": {
        "id": "TFrArINIaAZp",
        "colab_type": "code",
        "outputId": "cb8e8bd3-fff5-4fa9-9217-9504ae29d989",
        "colab": {
          "base_uri": "https://localhost:8080/",
          "height": 204
        }
      },
      "source": [
        "train.head()"
      ],
      "execution_count": 266,
      "outputs": [
        {
          "output_type": "execute_result",
          "data": {
            "text/html": [
              "<div>\n",
              "<style scoped>\n",
              "    .dataframe tbody tr th:only-of-type {\n",
              "        vertical-align: middle;\n",
              "    }\n",
              "\n",
              "    .dataframe tbody tr th {\n",
              "        vertical-align: top;\n",
              "    }\n",
              "\n",
              "    .dataframe thead th {\n",
              "        text-align: right;\n",
              "    }\n",
              "</style>\n",
              "<table border=\"1\" class=\"dataframe\">\n",
              "  <thead>\n",
              "    <tr style=\"text-align: right;\">\n",
              "      <th></th>\n",
              "      <th>id</th>\n",
              "      <th>category</th>\n",
              "      <th>text</th>\n",
              "    </tr>\n",
              "  </thead>\n",
              "  <tbody>\n",
              "    <tr>\n",
              "      <th>0</th>\n",
              "      <td>959</td>\n",
              "      <td>0</td>\n",
              "      <td>5573 1189 4017 1207 4768 8542 17 1189 5085 5773</td>\n",
              "    </tr>\n",
              "    <tr>\n",
              "      <th>1</th>\n",
              "      <td>994</td>\n",
              "      <td>0</td>\n",
              "      <td>6315 7507 6700 4742 1944 2692 3647 4413 6700</td>\n",
              "    </tr>\n",
              "    <tr>\n",
              "      <th>2</th>\n",
              "      <td>995</td>\n",
              "      <td>0</td>\n",
              "      <td>5015 8067 5335 1615 7957 5773</td>\n",
              "    </tr>\n",
              "    <tr>\n",
              "      <th>3</th>\n",
              "      <td>996</td>\n",
              "      <td>0</td>\n",
              "      <td>2925 7199 1994 4647 7455 5773 4518 2734 2807 8...</td>\n",
              "    </tr>\n",
              "    <tr>\n",
              "      <th>4</th>\n",
              "      <td>997</td>\n",
              "      <td>0</td>\n",
              "      <td>7136 1207 6781 237 4971 3669 6193</td>\n",
              "    </tr>\n",
              "  </tbody>\n",
              "</table>\n",
              "</div>"
            ],
            "text/plain": [
              "    id  category                                               text\n",
              "0  959         0    5573 1189 4017 1207 4768 8542 17 1189 5085 5773\n",
              "1  994         0       6315 7507 6700 4742 1944 2692 3647 4413 6700\n",
              "2  995         0                      5015 8067 5335 1615 7957 5773\n",
              "3  996         0  2925 7199 1994 4647 7455 5773 4518 2734 2807 8...\n",
              "4  997         0                  7136 1207 6781 237 4971 3669 6193"
            ]
          },
          "metadata": {
            "tags": []
          },
          "execution_count": 266
        }
      ]
    },
    {
      "cell_type": "code",
      "metadata": {
        "id": "NMmBU_WnaBvK",
        "colab_type": "code",
        "outputId": "e97d6565-735a-4cb9-8dc7-e67e8b05e514",
        "colab": {
          "base_uri": "https://localhost:8080/",
          "height": 204
        }
      },
      "source": [
        "sample_Sub.head()"
      ],
      "execution_count": 267,
      "outputs": [
        {
          "output_type": "execute_result",
          "data": {
            "text/html": [
              "<div>\n",
              "<style scoped>\n",
              "    .dataframe tbody tr th:only-of-type {\n",
              "        vertical-align: middle;\n",
              "    }\n",
              "\n",
              "    .dataframe tbody tr th {\n",
              "        vertical-align: top;\n",
              "    }\n",
              "\n",
              "    .dataframe thead th {\n",
              "        text-align: right;\n",
              "    }\n",
              "</style>\n",
              "<table border=\"1\" class=\"dataframe\">\n",
              "  <thead>\n",
              "    <tr style=\"text-align: right;\">\n",
              "      <th></th>\n",
              "      <th>id</th>\n",
              "      <th>category</th>\n",
              "    </tr>\n",
              "  </thead>\n",
              "  <tbody>\n",
              "    <tr>\n",
              "      <th>0</th>\n",
              "      <td>3729</td>\n",
              "      <td>1</td>\n",
              "    </tr>\n",
              "    <tr>\n",
              "      <th>1</th>\n",
              "      <td>3732</td>\n",
              "      <td>1</td>\n",
              "    </tr>\n",
              "    <tr>\n",
              "      <th>2</th>\n",
              "      <td>3761</td>\n",
              "      <td>1</td>\n",
              "    </tr>\n",
              "    <tr>\n",
              "      <th>3</th>\n",
              "      <td>5</td>\n",
              "      <td>1</td>\n",
              "    </tr>\n",
              "    <tr>\n",
              "      <th>4</th>\n",
              "      <td>7</td>\n",
              "      <td>1</td>\n",
              "    </tr>\n",
              "  </tbody>\n",
              "</table>\n",
              "</div>"
            ],
            "text/plain": [
              "     id  category\n",
              "0  3729         1\n",
              "1  3732         1\n",
              "2  3761         1\n",
              "3     5         1\n",
              "4     7         1"
            ]
          },
          "metadata": {
            "tags": []
          },
          "execution_count": 267
        }
      ]
    },
    {
      "cell_type": "code",
      "metadata": {
        "id": "QXbaLpZlaFn4",
        "colab_type": "code",
        "outputId": "0e76ef57-09bc-4a6f-aa54-6db58eb0c677",
        "colab": {
          "base_uri": "https://localhost:8080/",
          "height": 34
        }
      },
      "source": [
        "train['text'].iloc[22]"
      ],
      "execution_count": 268,
      "outputs": [
        {
          "output_type": "execute_result",
          "data": {
            "text/plain": [
              "'5092 3225 8486 5658 6625 1784 3078 7152 3743 7812 3078 1273 1089 5071 5085 3078'"
            ]
          },
          "metadata": {
            "tags": []
          },
          "execution_count": 268
        }
      ]
    },
    {
      "cell_type": "code",
      "metadata": {
        "id": "U92Z9D0WaW1f",
        "colab_type": "code",
        "outputId": "b6cd4a0a-fff9-42a3-877d-ac772a4a7649",
        "colab": {
          "base_uri": "https://localhost:8080/",
          "height": 68
        }
      },
      "source": [
        "train['category'].value_counts()"
      ],
      "execution_count": 269,
      "outputs": [
        {
          "output_type": "execute_result",
          "data": {
            "text/plain": [
              "0    3348\n",
              "1     116\n",
              "Name: category, dtype: int64"
            ]
          },
          "metadata": {
            "tags": []
          },
          "execution_count": 269
        }
      ]
    },
    {
      "cell_type": "code",
      "metadata": {
        "id": "-CsB_fe-9alh",
        "colab_type": "code",
        "colab": {}
      },
      "source": [
        "from nltk import FreqDist\n",
        "import seaborn as sns\n",
        "import matplotlib.pyplot as plt\n",
        "%matplotlib inline"
      ],
      "execution_count": 0,
      "outputs": []
    },
    {
      "cell_type": "code",
      "metadata": {
        "id": "cln9nw0A9TgH",
        "colab_type": "code",
        "colab": {}
      },
      "source": [
        "# function to plot most frequent terms\n",
        "def freq_words(x, terms = 30):\n",
        "  all_words = ' '.join([text for text in x])\n",
        "  all_words = all_words.split()\n",
        "\n",
        "  fdist = FreqDist(all_words)\n",
        "  words_df = pd.DataFrame({'word':list(fdist.keys()), 'count':list(fdist.values())})\n",
        "\n",
        "  # selecting top 20 most frequent words\n",
        "  d = words_df.nlargest(columns=\"count\", n = terms) \n",
        "  plt.figure(figsize=(20,5))\n",
        "  ax = sns.barplot(data=d, x= \"word\", y = \"count\")\n",
        "  ax.set(ylabel = 'Count')\n",
        "  plt.show()"
      ],
      "execution_count": 0,
      "outputs": []
    },
    {
      "cell_type": "code",
      "metadata": {
        "id": "2rFgJ6NY9XOr",
        "colab_type": "code",
        "colab": {
          "base_uri": "https://localhost:8080/",
          "height": 357
        },
        "outputId": "c8ffe77e-5e10-4af4-e336-b6d19d7394b4"
      },
      "source": [
        "freq_words(train['text'])"
      ],
      "execution_count": 330,
      "outputs": [
        {
          "output_type": "display_data",
          "data": {
            "image/png": "[encoded data removed]",
            "text/plain": [
              "<Figure size 1440x360 with 1 Axes>"
            ]
          },
          "metadata": {
            "tags": []
          }
        }
      ]
    },
    {
      "cell_type": "markdown",
      "metadata": {
        "id": "47u6AOw_5MdJ",
        "colab_type": "text"
      },
      "source": [
        "Create different function"
      ]
    },
    {
      "cell_type": "code",
      "metadata": {
        "id": "oeNcpEA2bSpa",
        "colab_type": "code",
        "colab": {}
      },
      "source": [
        "def get_csv_file(model,file_name):\n",
        "    predicted_test = model.predict(test.text)\n",
        "    test['category'] = predicted_test\n",
        "    final_test = test[['id','category']]\n",
        "    final_test.to_csv(file_name,index=False)"
      ],
      "execution_count": 0,
      "outputs": []
    },
    {
      "cell_type": "code",
      "metadata": {
        "id": "-yNXG4j_4kej",
        "colab_type": "code",
        "colab": {}
      },
      "source": [
        "def get_reports(model,df_test,y_test):\n",
        "    predicted = model.predict(df_test)\n",
        "    print('='*90)\n",
        "    print('classification_report')\n",
        "    print(classification_report(y_test,predicted))\n",
        "\n",
        "    print('='*90)\n",
        "    print('confusion_matrix')\n",
        "    print(confusion_matrix(y_test,predicted))\n",
        "\n",
        "    print('='*90)\n",
        "    print('accuracy_score')\n",
        "    print(accuracy_score(y_test,predicted))\n",
        "\n",
        "    print('='*90)\n",
        "    print('F1 Score')\n",
        "    print(f1_score(y_test,predicted))"
      ],
      "execution_count": 0,
      "outputs": []
    },
    {
      "cell_type": "code",
      "metadata": {
        "id": "ZfbNMELf3INI",
        "colab_type": "code",
        "colab": {}
      },
      "source": [
        "def model_pipe(model, dtrain,label):\n",
        "  clf_model = Pipeline([('vect',  CountVectorizer()),\n",
        "                        ('tfidf', TfidfTransformer()),\n",
        "                        ('clf', model),])\n",
        "  clf_model = clf_model.fit(dtrain,label)\n",
        "  return clf_model"
      ],
      "execution_count": 0,
      "outputs": []
    },
    {
      "cell_type": "code",
      "metadata": {
        "id": "W_FQH0u4A84P",
        "colab_type": "code",
        "colab": {}
      },
      "source": [
        "count_vectorizer = CountVectorizer()\n",
        "X =count_vectorizer.fit_transform(train['text'].values)\n",
        "tfidf_transformer = TfidfTransformer()\n",
        "X_train_tfidf = tfidf_transformer.fit_transform(X)\n",
        "X_train, X_test, y_train, y_test = train_test_split(train.text, train.category, test_size=0.20, random_state=42)"
      ],
      "execution_count": 0,
      "outputs": []
    },
    {
      "cell_type": "code",
      "metadata": {
        "id": "nvhCrmtID_xn",
        "colab_type": "code",
        "colab": {}
      },
      "source": [
        "clf = MultinomialNB(X_train_tfidf, train.category)"
      ],
      "execution_count": 0,
      "outputs": []
    },
    {
      "cell_type": "code",
      "metadata": {
        "id": "_vu0d-EBD_ug",
        "colab_type": "code",
        "colab": {}
      },
      "source": [
        "model_clf=model_pipe(MultinomialNB(),X_train,y_train)"
      ],
      "execution_count": 0,
      "outputs": []
    },
    {
      "cell_type": "code",
      "metadata": {
        "id": "9b59555MD_rF",
        "colab_type": "code",
        "colab": {
          "base_uri": "https://localhost:8080/",
          "height": 374
        },
        "outputId": "400f3e83-616f-4c77-8b7a-50c5e2942c3c"
      },
      "source": [
        "get_reports(model_clf, X_test,y_test)"
      ],
      "execution_count": 278,
      "outputs": [
        {
          "output_type": "stream",
          "text": [
            "==========================================================================================\n",
            "classification_report\n",
            "              precision    recall  f1-score   support\n",
            "\n",
            "           0       0.98      1.00      0.99       676\n",
            "           1       1.00      0.06      0.11        17\n",
            "\n",
            "    accuracy                           0.98       693\n",
            "   macro avg       0.99      0.53      0.55       693\n",
            "weighted avg       0.98      0.98      0.97       693\n",
            "\n",
            "==========================================================================================\n",
            "confusion_matrix\n",
            "[[676   0]\n",
            " [ 16   1]]\n",
            "==========================================================================================\n",
            "accuracy_score\n",
            "0.976911976911977\n",
            "==========================================================================================\n",
            "F1 Score\n",
            "0.1111111111111111\n"
          ],
          "name": "stdout"
        }
      ]
    },
    {
      "cell_type": "code",
      "metadata": {
        "id": "oyy0dBql7a2D",
        "colab_type": "code",
        "colab": {}
      },
      "source": [
        "model_clf=model_pipe(SGDClassifier(),X_train,y_train)"
      ],
      "execution_count": 0,
      "outputs": []
    },
    {
      "cell_type": "code",
      "metadata": {
        "id": "DqDlGJ5mNPvH",
        "colab_type": "code",
        "colab": {
          "base_uri": "https://localhost:8080/",
          "height": 374
        },
        "outputId": "207c5918-10e5-4741-b1d0-e4a09de2fcec"
      },
      "source": [
        "get_reports(model_clf, X_test,y_test)"
      ],
      "execution_count": 280,
      "outputs": [
        {
          "output_type": "stream",
          "text": [
            "==========================================================================================\n",
            "classification_report\n",
            "              precision    recall  f1-score   support\n",
            "\n",
            "           0       0.99      1.00      1.00       676\n",
            "           1       1.00      0.76      0.87        17\n",
            "\n",
            "    accuracy                           0.99       693\n",
            "   macro avg       1.00      0.88      0.93       693\n",
            "weighted avg       0.99      0.99      0.99       693\n",
            "\n",
            "==========================================================================================\n",
            "confusion_matrix\n",
            "[[676   0]\n",
            " [  4  13]]\n",
            "==========================================================================================\n",
            "accuracy_score\n",
            "0.9942279942279942\n",
            "==========================================================================================\n",
            "F1 Score\n",
            "0.8666666666666666\n"
          ],
          "name": "stdout"
        }
      ]
    },
    {
      "cell_type": "code",
      "metadata": {
        "id": "MKNT6rCP57HN",
        "colab_type": "code",
        "colab": {}
      },
      "source": [
        "model_rf_clf=model_pipe(RandomForestClassifier(n_estimators=6,criterion='gini'),X_train,y_train)"
      ],
      "execution_count": 0,
      "outputs": []
    },
    {
      "cell_type": "code",
      "metadata": {
        "id": "-YoGgN3S6Efi",
        "colab_type": "code",
        "colab": {
          "base_uri": "https://localhost:8080/",
          "height": 374
        },
        "outputId": "a638c1c2-5c40-4b4b-c150-3758c8109711"
      },
      "source": [
        "get_reports(model_rf_clf, X_test,y_test)"
      ],
      "execution_count": 318,
      "outputs": [
        {
          "output_type": "stream",
          "text": [
            "==========================================================================================\n",
            "classification_report\n",
            "              precision    recall  f1-score   support\n",
            "\n",
            "           0       0.98      1.00      0.99       676\n",
            "           1       1.00      0.35      0.52        17\n",
            "\n",
            "    accuracy                           0.98       693\n",
            "   macro avg       0.99      0.68      0.76       693\n",
            "weighted avg       0.98      0.98      0.98       693\n",
            "\n",
            "==========================================================================================\n",
            "confusion_matrix\n",
            "[[676   0]\n",
            " [ 11   6]]\n",
            "==========================================================================================\n",
            "accuracy_score\n",
            "0.9841269841269841\n",
            "==========================================================================================\n",
            "F1 Score\n",
            "0.5217391304347826\n"
          ],
          "name": "stdout"
        }
      ]
    },
    {
      "cell_type": "code",
      "metadata": {
        "id": "P95Aq8v06Kce",
        "colab_type": "code",
        "colab": {}
      },
      "source": [
        "get_csv_file(model_rf_clf,'submission_rf.csv')"
      ],
      "execution_count": 0,
      "outputs": []
    },
    {
      "cell_type": "code",
      "metadata": {
        "id": "GXoMO0EA6zgA",
        "colab_type": "code",
        "colab": {}
      },
      "source": [
        "model_gbm_clf=model_pipe(GradientBoostingClassifier(learning_rate=1, min_samples_split=1000,min_samples_leaf=50,max_depth=8,max_features='sqrt',subsample=0.8,random_state=10),X_train,y_train)"
      ],
      "execution_count": 0,
      "outputs": []
    },
    {
      "cell_type": "code",
      "metadata": {
        "id": "QHQiPcQo6_Nl",
        "colab_type": "code",
        "colab": {
          "base_uri": "https://localhost:8080/",
          "height": 374
        },
        "outputId": "2c79db57-b1ee-4703-b86b-14f2ed5131e7"
      },
      "source": [
        "get_reports(model_gbm_clf, X_test,y_test)"
      ],
      "execution_count": 294,
      "outputs": [
        {
          "output_type": "stream",
          "text": [
            "==========================================================================================\n",
            "classification_report\n",
            "              precision    recall  f1-score   support\n",
            "\n",
            "           0       0.99      1.00      0.99       676\n",
            "           1       0.70      0.41      0.52        17\n",
            "\n",
            "    accuracy                           0.98       693\n",
            "   macro avg       0.84      0.70      0.75       693\n",
            "weighted avg       0.98      0.98      0.98       693\n",
            "\n",
            "==========================================================================================\n",
            "confusion_matrix\n",
            "[[673   3]\n",
            " [ 10   7]]\n",
            "==========================================================================================\n",
            "accuracy_score\n",
            "0.9812409812409812\n",
            "==========================================================================================\n",
            "F1 Score\n",
            "0.5185185185185185\n"
          ],
          "name": "stdout"
        }
      ]
    },
    {
      "cell_type": "code",
      "metadata": {
        "id": "TRiUwR_d7IbB",
        "colab_type": "code",
        "colab": {}
      },
      "source": [
        "get_csv_file(model_rf_clf,'submission_gbm.csv')"
      ],
      "execution_count": 0,
      "outputs": []
    },
    {
      "cell_type": "code",
      "metadata": {
        "id": "KKbkzIcQPZTr",
        "colab_type": "code",
        "colab": {}
      },
      "source": [
        "get_csv_file(gs_clf_svm, 'submission_gsSVM.csv')"
      ],
      "execution_count": 0,
      "outputs": []
    },
    {
      "cell_type": "code",
      "metadata": {
        "id": "8LX7QxxMRKHh",
        "colab_type": "code",
        "colab": {}
      },
      "source": [
        "rf_model = Pipeline([('vect',  CountVectorizer()),\n",
        "                    ('tfidf', TfidfTransformer()),\n",
        "                     ('rf_model', RandomForestClassifier(n_estimators=5,criterion='entropy')),])"
      ],
      "execution_count": 0,
      "outputs": []
    },
    {
      "cell_type": "code",
      "metadata": {
        "id": "8uhVN92xRSn8",
        "colab_type": "code",
        "colab": {
          "base_uri": "https://localhost:8080/",
          "height": 408
        },
        "outputId": "48603dcd-a9c4-4d48-ce4c-39cf9566e2e2"
      },
      "source": [
        "rf_model.fit(X_train,y_train)"
      ],
      "execution_count": 148,
      "outputs": [
        {
          "output_type": "execute_result",
          "data": {
            "text/plain": [
              "Pipeline(memory=None,\n",
              "         steps=[('vect',\n",
              "                 CountVectorizer(analyzer='word', binary=False,\n",
              "                                 decode_error='strict',\n",
              "                                 dtype=<class 'numpy.int64'>, encoding='utf-8',\n",
              "                                 input='content', lowercase=True, max_df=1.0,\n",
              "                                 max_features=None, min_df=1,\n",
              "                                 ngram_range=(1, 1), preprocessor=None,\n",
              "                                 stop_words=None, strip_accents=None,\n",
              "                                 token_pattern='(?u)\\\\b\\\\w\\\\w+\\\\b',\n",
              "                                 tokenizer=None, vocabulary=Non...\n",
              "                 RandomForestClassifier(bootstrap=True, class_weight=None,\n",
              "                                        criterion='entropy', max_depth=None,\n",
              "                                        max_features='auto',\n",
              "                                        max_leaf_nodes=None,\n",
              "                                        min_impurity_decrease=0.0,\n",
              "                                        min_impurity_split=None,\n",
              "                                        min_samples_leaf=1, min_samples_split=2,\n",
              "                                        min_weight_fraction_leaf=0.0,\n",
              "                                        n_estimators=5, n_jobs=None,\n",
              "                                        oob_score=False, random_state=None,\n",
              "                                        verbose=0, warm_start=False))],\n",
              "         verbose=False)"
            ]
          },
          "metadata": {
            "tags": []
          },
          "execution_count": 148
        }
      ]
    },
    {
      "cell_type": "code",
      "metadata": {
        "id": "8bmlLjrzSG8S",
        "colab_type": "code",
        "colab": {
          "base_uri": "https://localhost:8080/",
          "height": 374
        },
        "outputId": "633e3764-230f-4205-f928-f36c7a7fb107"
      },
      "source": [
        "get_reports(rf_model,X_test,y_test)"
      ],
      "execution_count": 149,
      "outputs": [
        {
          "output_type": "stream",
          "text": [
            "==========================================================================================\n",
            "classification_report\n",
            "              precision    recall  f1-score   support\n",
            "\n",
            "           0       1.00      0.99      1.00       695\n",
            "           1       0.99      1.00      1.00       645\n",
            "\n",
            "    accuracy                           1.00      1340\n",
            "   macro avg       1.00      1.00      1.00      1340\n",
            "weighted avg       1.00      1.00      1.00      1340\n",
            "\n",
            "==========================================================================================\n",
            "confusion_matrix\n",
            "[[691   4]\n",
            " [  0 645]]\n",
            "==========================================================================================\n",
            "accuracy_score\n",
            "0.9970149253731343\n",
            "==========================================================================================\n",
            "F1 Score\n",
            "0.9969088098918084\n"
          ],
          "name": "stdout"
        }
      ]
    },
    {
      "cell_type": "code",
      "metadata": {
        "id": "-n0ayf6pSkD4",
        "colab_type": "code",
        "colab": {}
      },
      "source": [
        "y_1 = [y_1 for y_1 in y_train if y_1 == 1]\n",
        "y_0 = [y_0 for y_0 in y_train if y_0 == 0]"
      ],
      "execution_count": 0,
      "outputs": []
    },
    {
      "cell_type": "code",
      "metadata": {
        "id": "p-1VNBYsS2wd",
        "colab_type": "code",
        "colab": {
          "base_uri": "https://localhost:8080/",
          "height": 51
        },
        "outputId": "4c9d5738-66f6-4fe7-e724-503521a41643"
      },
      "source": [
        "print(len(y_1))\n",
        "print(len(y_0))"
      ],
      "execution_count": 135,
      "outputs": [
        {
          "output_type": "stream",
          "text": [
            "2703\n",
            "2653\n"
          ],
          "name": "stdout"
        }
      ]
    },
    {
      "cell_type": "code",
      "metadata": {
        "id": "SXWdHiJSWKZi",
        "colab_type": "code",
        "colab": {}
      },
      "source": [
        "from sklearn.utils import resample\n",
        "# separate minority and majority classes\n",
        "t_0 = train[train.category==0]\n",
        "t_1 = train[train.category==1]\n",
        "\n",
        "# upsample minority\n",
        "t_upsampled = resample(t_1,\n",
        "                          replace=True, # sample with replacement\n",
        "                          n_samples=len(t_0), # match number in majority class\n",
        "                          random_state=27) # reproducible results\n",
        "\n",
        "# combine majority and upsampled minority\n",
        "upsampled = pd.concat([t_0, t_upsampled])"
      ],
      "execution_count": 0,
      "outputs": []
    },
    {
      "cell_type": "code",
      "metadata": {
        "id": "nFBUL_3YX3CA",
        "colab_type": "code",
        "colab": {
          "base_uri": "https://localhost:8080/",
          "height": 297
        },
        "outputId": "1b21bff1-b0f8-4238-cbc7-0446346066c2"
      },
      "source": [
        "upsampled.describe()"
      ],
      "execution_count": 195,
      "outputs": [
        {
          "output_type": "execute_result",
          "data": {
            "text/html": [
              "<div>\n",
              "<style scoped>\n",
              "    .dataframe tbody tr th:only-of-type {\n",
              "        vertical-align: middle;\n",
              "    }\n",
              "\n",
              "    .dataframe tbody tr th {\n",
              "        vertical-align: top;\n",
              "    }\n",
              "\n",
              "    .dataframe thead th {\n",
              "        text-align: right;\n",
              "    }\n",
              "</style>\n",
              "<table border=\"1\" class=\"dataframe\">\n",
              "  <thead>\n",
              "    <tr style=\"text-align: right;\">\n",
              "      <th></th>\n",
              "      <th>id</th>\n",
              "      <th>category</th>\n",
              "    </tr>\n",
              "  </thead>\n",
              "  <tbody>\n",
              "    <tr>\n",
              "      <th>count</th>\n",
              "      <td>6696.000000</td>\n",
              "      <td>6696.000000</td>\n",
              "    </tr>\n",
              "    <tr>\n",
              "      <th>mean</th>\n",
              "      <td>3715.952957</td>\n",
              "      <td>0.500000</td>\n",
              "    </tr>\n",
              "    <tr>\n",
              "      <th>std</th>\n",
              "      <td>1137.335749</td>\n",
              "      <td>0.500037</td>\n",
              "    </tr>\n",
              "    <tr>\n",
              "      <th>min</th>\n",
              "      <td>959.000000</td>\n",
              "      <td>0.000000</td>\n",
              "    </tr>\n",
              "    <tr>\n",
              "      <th>25%</th>\n",
              "      <td>2905.750000</td>\n",
              "      <td>0.000000</td>\n",
              "    </tr>\n",
              "    <tr>\n",
              "      <th>50%</th>\n",
              "      <td>4229.000000</td>\n",
              "      <td>0.500000</td>\n",
              "    </tr>\n",
              "    <tr>\n",
              "      <th>75%</th>\n",
              "      <td>4576.000000</td>\n",
              "      <td>1.000000</td>\n",
              "    </tr>\n",
              "    <tr>\n",
              "      <th>max</th>\n",
              "      <td>4855.000000</td>\n",
              "      <td>1.000000</td>\n",
              "    </tr>\n",
              "  </tbody>\n",
              "</table>\n",
              "</div>"
            ],
            "text/plain": [
              "                id     category\n",
              "count  6696.000000  6696.000000\n",
              "mean   3715.952957     0.500000\n",
              "std    1137.335749     0.500037\n",
              "min     959.000000     0.000000\n",
              "25%    2905.750000     0.000000\n",
              "50%    4229.000000     0.500000\n",
              "75%    4576.000000     1.000000\n",
              "max    4855.000000     1.000000"
            ]
          },
          "metadata": {
            "tags": []
          },
          "execution_count": 195
        }
      ]
    },
    {
      "cell_type": "code",
      "metadata": {
        "id": "vanrZD_rYXiz",
        "colab_type": "code",
        "colab": {}
      },
      "source": [
        "X_train, X_test, y_train, y_test = train_test_split(upsampled.text, upsampled.category, test_size=0.20, random_state=42)"
      ],
      "execution_count": 0,
      "outputs": []
    },
    {
      "cell_type": "code",
      "metadata": {
        "id": "WjG-RAC7Ye_t",
        "colab_type": "code",
        "colab": {
          "base_uri": "https://localhost:8080/",
          "height": 71
        },
        "outputId": "16bb2761-48a4-47a2-83c1-fb942224e683"
      },
      "source": [
        "from imblearn.over_sampling import SMOTE"
      ],
      "execution_count": 151,
      "outputs": [
        {
          "output_type": "stream",
          "text": [
            "/usr/local/lib/python3.6/dist-packages/sklearn/externals/six.py:31: DeprecationWarning: The module is deprecated in version 0.21 and will be removed in version 0.23 since we've dropped support for Python 2.7. Please rely on the official version of six (https://pypi.org/project/six/).\n",
            "  \"(https://pypi.org/project/six/).\", DeprecationWarning)\n"
          ],
          "name": "stderr"
        }
      ]
    },
    {
      "cell_type": "code",
      "metadata": {
        "id": "HbHxOoUSdedQ",
        "colab_type": "code",
        "colab": {}
      },
      "source": [
        "from sklearn.svm import SVC"
      ],
      "execution_count": 0,
      "outputs": []
    },
    {
      "cell_type": "code",
      "metadata": {
        "id": "mm7ddX8fgm46",
        "colab_type": "code",
        "colab": {
          "base_uri": "https://localhost:8080/",
          "height": 374
        },
        "outputId": "cb37423e-f4f5-47e0-b797-55aa4d9ef648"
      },
      "source": [
        "get_reports(text_clf_svm,X_test,y_test)"
      ],
      "execution_count": 177,
      "outputs": [
        {
          "output_type": "stream",
          "text": [
            "==========================================================================================\n",
            "classification_report\n",
            "              precision    recall  f1-score   support\n",
            "\n",
            "           0       1.00      1.00      1.00       676\n",
            "           1       1.00      1.00      1.00        17\n",
            "\n",
            "    accuracy                           1.00       693\n",
            "   macro avg       1.00      1.00      1.00       693\n",
            "weighted avg       1.00      1.00      1.00       693\n",
            "\n",
            "==========================================================================================\n",
            "confusion_matrix\n",
            "[[676   0]\n",
            " [  0  17]]\n",
            "==========================================================================================\n",
            "accuracy_score\n",
            "1.0\n",
            "==========================================================================================\n",
            "F1 Score\n",
            "1.0\n"
          ],
          "name": "stdout"
        }
      ]
    },
    {
      "cell_type": "code",
      "metadata": {
        "id": "wetS4HmEgsFF",
        "colab_type": "code",
        "colab": {}
      },
      "source": [
        "y_1 = [y_1 for y_1 in y_test if y_1 == 1]\n",
        "y_0 = [y_0 for y_0 in y_test if y_0 == 0]"
      ],
      "execution_count": 0,
      "outputs": []
    },
    {
      "cell_type": "code",
      "metadata": {
        "id": "RSVCdk3rhBWS",
        "colab_type": "code",
        "colab": {
          "base_uri": "https://localhost:8080/",
          "height": 34
        },
        "outputId": "a5a6c136-25da-4ef8-efbf-fd56f6df9d58"
      },
      "source": [
        "print(len(y_1),len(y_0))"
      ],
      "execution_count": 209,
      "outputs": [
        {
          "output_type": "stream",
          "text": [
            "645 695\n"
          ],
          "name": "stdout"
        }
      ]
    },
    {
      "cell_type": "code",
      "metadata": {
        "id": "OtN_Bw9shDQg",
        "colab_type": "code",
        "colab": {}
      },
      "source": [
        "get_csv_file(text_clf_svm, 'submission_svm1.csv')"
      ],
      "execution_count": 0,
      "outputs": []
    },
    {
      "cell_type": "code",
      "metadata": {
        "id": "NlZpeYZBhqvj",
        "colab_type": "code",
        "colab": {
          "base_uri": "https://localhost:8080/",
          "height": 68
        },
        "outputId": "a89ec9af-ba46-4ad2-d257-2cd4ac01a205"
      },
      "source": [
        "train['category'].value_counts(normalize = True)"
      ],
      "execution_count": 181,
      "outputs": [
        {
          "output_type": "execute_result",
          "data": {
            "text/plain": [
              "0    0.966513\n",
              "1    0.033487\n",
              "Name: category, dtype: float64"
            ]
          },
          "metadata": {
            "tags": []
          },
          "execution_count": 181
        }
      ]
    },
    {
      "cell_type": "code",
      "metadata": {
        "id": "oVI7CRlFkbIc",
        "colab_type": "code",
        "colab": {}
      },
      "source": [
        "from sklearn.linear_model import LogisticRegression\n",
        "from sklearn.metrics import f1_score\n",
        "\n",
        "lreg = LogisticRegression()"
      ],
      "execution_count": 0,
      "outputs": []
    },
    {
      "cell_type": "code",
      "metadata": {
        "id": "THWxUxPdtyZU",
        "colab_type": "code",
        "colab": {
          "base_uri": "https://localhost:8080/",
          "height": 462
        },
        "outputId": "f58357b7-19a6-4280-8132-72cc4f012af3"
      },
      "source": [
        "text_clf_lr = Pipeline([('vect', CountVectorizer()),\n",
        "                         ('tfidf',TfidfTransformer()),\n",
        "                         ('clf_lr',LogisticRegression(class_weight='balanced'))])\n",
        "text_clf_lr.fit(X_train,y_train)"
      ],
      "execution_count": 197,
      "outputs": [
        {
          "output_type": "stream",
          "text": [
            "/usr/local/lib/python3.6/dist-packages/sklearn/linear_model/logistic.py:432: FutureWarning: Default solver will be changed to 'lbfgs' in 0.22. Specify a solver to silence this warning.\n",
            "  FutureWarning)\n"
          ],
          "name": "stderr"
        },
        {
          "output_type": "execute_result",
          "data": {
            "text/plain": [
              "Pipeline(memory=None,\n",
              "         steps=[('vect',\n",
              "                 CountVectorizer(analyzer='word', binary=False,\n",
              "                                 decode_error='strict',\n",
              "                                 dtype=<class 'numpy.int64'>, encoding='utf-8',\n",
              "                                 input='content', lowercase=True, max_df=1.0,\n",
              "                                 max_features=None, min_df=1,\n",
              "                                 ngram_range=(1, 1), preprocessor=None,\n",
              "                                 stop_words=None, strip_accents=None,\n",
              "                                 token_pattern='(?u)\\\\b\\\\w\\\\w+\\\\b',\n",
              "                                 tokenizer=None, vocabulary=Non...\n",
              "                ('tfidf',\n",
              "                 TfidfTransformer(norm='l2', smooth_idf=True,\n",
              "                                  sublinear_tf=False, use_idf=True)),\n",
              "                ('clf_lr',\n",
              "                 LogisticRegression(C=1.0, class_weight='balanced', dual=False,\n",
              "                                    fit_intercept=True, intercept_scaling=1,\n",
              "                                    l1_ratio=None, max_iter=100,\n",
              "                                    multi_class='warn', n_jobs=None,\n",
              "                                    penalty='l2', random_state=None,\n",
              "                                    solver='warn', tol=0.0001, verbose=0,\n",
              "                                    warm_start=False))],\n",
              "         verbose=False)"
            ]
          },
          "metadata": {
            "tags": []
          },
          "execution_count": 197
        }
      ]
    },
    {
      "cell_type": "code",
      "metadata": {
        "id": "4SA7xs6_uVRf",
        "colab_type": "code",
        "colab": {
          "base_uri": "https://localhost:8080/",
          "height": 374
        },
        "outputId": "e7c3e65e-5943-48d0-c71d-cff8af6e405b"
      },
      "source": [
        "get_reports(text_clf_lr, X_test,y_test)"
      ],
      "execution_count": 198,
      "outputs": [
        {
          "output_type": "stream",
          "text": [
            "==========================================================================================\n",
            "classification_report\n",
            "              precision    recall  f1-score   support\n",
            "\n",
            "           0       1.00      1.00      1.00       695\n",
            "           1       1.00      1.00      1.00       645\n",
            "\n",
            "    accuracy                           1.00      1340\n",
            "   macro avg       1.00      1.00      1.00      1340\n",
            "weighted avg       1.00      1.00      1.00      1340\n",
            "\n",
            "==========================================================================================\n",
            "confusion_matrix\n",
            "[[692   3]\n",
            " [  0 645]]\n",
            "==========================================================================================\n",
            "accuracy_score\n",
            "0.9977611940298508\n",
            "==========================================================================================\n",
            "F1 Score\n",
            "0.9976798143851509\n"
          ],
          "name": "stdout"
        }
      ]
    },
    {
      "cell_type": "code",
      "metadata": {
        "id": "QL5hSNb5xYwg",
        "colab_type": "code",
        "colab": {}
      },
      "source": [
        "from sklearn.ensemble import GradientBoostingClassifier  #GBM algorithm\n",
        "from sklearn.model_selection import cross_val_score,GridSearchCV   #Additional scklearn functions\n",
        "  #Perforing grid search"
      ],
      "execution_count": 0,
      "outputs": []
    },
    {
      "cell_type": "code",
      "metadata": {
        "id": "8HysBhNqxSx4",
        "colab_type": "code",
        "colab": {}
      },
      "source": [
        "#Choose all predictors except target & IDcols\n",
        "predictors = [x for x in train.columns if x not in ['category']]\n",
        "gbm0 = GradientBoostingClassifier(random_state=10)"
      ],
      "execution_count": 0,
      "outputs": []
    },
    {
      "cell_type": "code",
      "metadata": {
        "id": "0mN6nkWgxVbb",
        "colab_type": "code",
        "colab": {
          "base_uri": "https://localhost:8080/",
          "height": 459
        },
        "outputId": "ba12cf71-b33e-4fb3-9f25-f605536618aa"
      },
      "source": [
        "text_clf_gbm = Pipeline([('vect', CountVectorizer()),\n",
        "                         ('tfidf',TfidfTransformer()),\n",
        "                         ('clf_lr',GradientBoostingClassifier(learning_rate=0.01, min_samples_split=1000,min_samples_leaf=50,max_depth=8,max_features='sqrt',subsample=0.8,random_state=10))])\n",
        "text_clf_gbm.fit(X_train,y_train)"
      ],
      "execution_count": 250,
      "outputs": [
        {
          "output_type": "execute_result",
          "data": {
            "text/plain": [
              "Pipeline(memory=None,\n",
              "         steps=[('vect',\n",
              "                 CountVectorizer(analyzer='word', binary=False,\n",
              "                                 decode_error='strict',\n",
              "                                 dtype=<class 'numpy.int64'>, encoding='utf-8',\n",
              "                                 input='content', lowercase=True, max_df=1.0,\n",
              "                                 max_features=None, min_df=1,\n",
              "                                 ngram_range=(1, 1), preprocessor=None,\n",
              "                                 stop_words=None, strip_accents=None,\n",
              "                                 token_pattern='(?u)\\\\b\\\\w\\\\w+\\\\b',\n",
              "                                 tokenizer=None, vocabulary=Non...\n",
              "                                            learning_rate=0.01, loss='deviance',\n",
              "                                            max_depth=8, max_features='sqrt',\n",
              "                                            max_leaf_nodes=None,\n",
              "                                            min_impurity_decrease=0.0,\n",
              "                                            min_impurity_split=None,\n",
              "                                            min_samples_leaf=50,\n",
              "                                            min_samples_split=1000,\n",
              "                                            min_weight_fraction_leaf=0.0,\n",
              "                                            n_estimators=100,\n",
              "                                            n_iter_no_change=None,\n",
              "                                            presort='auto', random_state=10,\n",
              "                                            subsample=0.8, tol=0.0001,\n",
              "                                            validation_fraction=0.1, verbose=0,\n",
              "                                            warm_start=False))],\n",
              "         verbose=False)"
            ]
          },
          "metadata": {
            "tags": []
          },
          "execution_count": 250
        }
      ]
    },
    {
      "cell_type": "code",
      "metadata": {
        "id": "kQ94CVsTxjRw",
        "colab_type": "code",
        "colab": {
          "base_uri": "https://localhost:8080/",
          "height": 374
        },
        "outputId": "19cc512e-2419-483a-f86a-0666024f0979"
      },
      "source": [
        "get_reports(text_clf_gbm,X_test,y_test)"
      ],
      "execution_count": 251,
      "outputs": [
        {
          "output_type": "stream",
          "text": [
            "==========================================================================================\n",
            "classification_report\n",
            "              precision    recall  f1-score   support\n",
            "\n",
            "           0       0.95      0.99      0.97       695\n",
            "           1       0.99      0.94      0.97       645\n",
            "\n",
            "    accuracy                           0.97      1340\n",
            "   macro avg       0.97      0.97      0.97      1340\n",
            "weighted avg       0.97      0.97      0.97      1340\n",
            "\n",
            "==========================================================================================\n",
            "confusion_matrix\n",
            "[[691   4]\n",
            " [ 38 607]]\n",
            "==========================================================================================\n",
            "accuracy_score\n",
            "0.9686567164179104\n",
            "==========================================================================================\n",
            "F1 Score\n",
            "0.9665605095541402\n"
          ],
          "name": "stdout"
        }
      ]
    },
    {
      "cell_type": "code",
      "metadata": {
        "id": "SAts4u6QxvKS",
        "colab_type": "code",
        "colab": {}
      },
      "source": [
        "get_csv_file(text_clf_gbm, 'submision_gbm.csv')"
      ],
      "execution_count": 0,
      "outputs": []
    },
    {
      "cell_type": "code",
      "metadata": {
        "id": "b6Del_D6y9hu",
        "colab_type": "code",
        "colab": {}
      },
      "source": [
        "sub_1 = pd.read_csv('submission_rf.csv')"
      ],
      "execution_count": 0,
      "outputs": []
    },
    {
      "cell_type": "code",
      "metadata": {
        "id": "PKn6zKNV0HFP",
        "colab_type": "code",
        "colab": {}
      },
      "source": [
        "sub_2 = pd.read_csv('submision_gbm2.csv')"
      ],
      "execution_count": 0,
      "outputs": []
    },
    {
      "cell_type": "code",
      "metadata": {
        "id": "ZfHaPn-r0MbJ",
        "colab_type": "code",
        "colab": {
          "base_uri": "https://localhost:8080/",
          "height": 34
        },
        "outputId": "f79ea17b-cc7a-4b9e-9675-a04bde4429d3"
      },
      "source": [
        "print(confusion_matrix(sub_1.category.values, sub_2.category.values))"
      ],
      "execution_count": 322,
      "outputs": [
        {
          "output_type": "stream",
          "text": [
            "[[1360]]\n"
          ],
          "name": "stdout"
        }
      ]
    },
    {
      "cell_type": "code",
      "metadata": {
        "id": "bC-1-w6A0TqR",
        "colab_type": "code",
        "colab": {
          "base_uri": "https://localhost:8080/",
          "height": 51
        },
        "outputId": "a51d1c27-0a5f-417f-cda7-0a29122a8ab7"
      },
      "source": [
        "sub_1['category'].value_counts()"
      ],
      "execution_count": 298,
      "outputs": [
        {
          "output_type": "execute_result",
          "data": {
            "text/plain": [
              "0    1360\n",
              "Name: category, dtype: int64"
            ]
          },
          "metadata": {
            "tags": []
          },
          "execution_count": 298
        }
      ]
    },
    {
      "cell_type": "code",
      "metadata": {
        "id": "lr8ntTPP0bCA",
        "colab_type": "code",
        "colab": {
          "base_uri": "https://localhost:8080/",
          "height": 51
        },
        "outputId": "c5065907-131f-4405-de5c-90fccb735e46"
      },
      "source": [
        "sub_2['category'].value_counts()"
      ],
      "execution_count": 299,
      "outputs": [
        {
          "output_type": "execute_result",
          "data": {
            "text/plain": [
              "0    1360\n",
              "Name: category, dtype: int64"
            ]
          },
          "metadata": {
            "tags": []
          },
          "execution_count": 299
        }
      ]
    },
    {
      "cell_type": "code",
      "metadata": {
        "id": "t1wiFQlp0y6Y",
        "colab_type": "code",
        "colab": {}
      },
      "source": [
        ""
      ],
      "execution_count": 0,
      "outputs": []
    }
  ]
}