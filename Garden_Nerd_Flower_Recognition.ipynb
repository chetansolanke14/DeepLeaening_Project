{
  "nbformat": 4,
  "nbformat_minor": 0,
  "metadata": {
    "colab": {
      "name": "Garden Nerd : Flower Recognition.ipynb",
      "provenance": [],
      "include_colab_link": true
    },
    "kernelspec": {
      "name": "python3",
      "display_name": "Python 3"
    }
  },
  "cells": [
    {
      "cell_type": "markdown",
      "metadata": {
        "id": "view-in-github",
        "colab_type": "text"
      },
      "source": [
        "<a href=\"https://colab.research.google.com/github/chetansolanke14/DeepLearning_Project/blob/master/Garden_Nerd_Flower_Recognition.ipynb\" target=\"_parent\"><img src=\"https://colab.research.google.com/assets/colab-badge.svg\" alt=\"Open In Colab\"/></a>"
      ]
    },
    {
      "cell_type": "code",
      "metadata": {
        "id": "ZUw3sdST5EPC",
        "colab_type": "code",
        "colab": {
          "base_uri": "https://localhost:8080/",
          "height": 224
        },
        "outputId": "34f4bbfa-44b6-4fc4-ac7b-60ea9d66baf3"
      },
      "source": [
        "#!wget https://he-public-data.s3-ap-southeast-1.amazonaws.com/HE_Challenge_data.zip"
      ],
      "execution_count": 3,
      "outputs": [
        {
          "output_type": "stream",
          "text": [
            "--2019-09-22 16:53:18--  https://he-public-data.s3-ap-southeast-1.amazonaws.com/HE_Challenge_data.zip\n",
            "Resolving he-public-data.s3-ap-southeast-1.amazonaws.com (he-public-data.s3-ap-southeast-1.amazonaws.com)... 52.219.36.191\n",
            "Connecting to he-public-data.s3-ap-southeast-1.amazonaws.com (he-public-data.s3-ap-southeast-1.amazonaws.com)|52.219.36.191|:443... connected.\n",
            "HTTP request sent, awaiting response... 200 OK\n",
            "Length: 948965311 (905M) [application/zip]\n",
            "Saving to: ‘HE_Challenge_data.zip’\n",
            "\n",
            "HE_Challenge_data.z 100%[===================>] 905.00M  10.3MB/s    in 92s     \n",
            "\n",
            "2019-09-22 16:54:51 (9.83 MB/s) - ‘HE_Challenge_data.zip’ saved [948965311/948965311]\n",
            "\n"
          ],
          "name": "stdout"
        }
      ]
    },
    {
      "cell_type": "code",
      "metadata": {
        "id": "2IuLo0Rb5FeK",
        "colab_type": "code",
        "colab": {}
      },
      "source": [
        "#!unzip HE_Challenge_data.zip"
      ],
      "execution_count": 0,
      "outputs": []
    },
    {
      "cell_type": "code",
      "metadata": {
        "id": "e9wfmBJY4ykh",
        "colab_type": "code",
        "colab": {}
      },
      "source": [
        "train_csv =pd.read_csv('data/train.csv')\n",
        "test_csv =pd.read_csv('data/test.csv')\n",
        "samp_csv =pd.read_csv('data/sample_submission.csv')"
      ],
      "execution_count": 0,
      "outputs": []
    },
    {
      "cell_type": "code",
      "metadata": {
        "id": "ZZNH-WT07QO7",
        "colab_type": "code",
        "colab": {}
      },
      "source": [
        "import keras\n",
        "from keras.models import Sequential\n",
        "from keras.layers import Dense, Dropout, Flatten\n",
        "from keras.layers import Conv2D, MaxPooling2D\n",
        "from keras.utils import to_categorical\n",
        "from keras.preprocessing import image\n",
        "import numpy as np\n",
        "import pandas as pd\n",
        "import matplotlib.pyplot as plt\n",
        "from sklearn.model_selection import train_test_split\n",
        "from keras.utils import to_categorical\n",
        "from tqdm import tqdm\n",
        "import cv2 as cv"
      ],
      "execution_count": 0,
      "outputs": []
    },
    {
      "cell_type": "code",
      "metadata": {
        "id": "3Hf9Ukkg7RVX",
        "colab_type": "code",
        "colab": {
          "base_uri": "https://localhost:8080/",
          "height": 269
        },
        "outputId": "4a09970f-acdc-4d7b-9da7-913f6c1131a7"
      },
      "source": [
        "# We have grayscale images, so while loading the images we will keep grayscale=True, if you have RGB images, you should set grayscale as False\n",
        "train_image = []\n",
        "for i in tqdm(range(train_csv.shape[0])):\n",
        "    img = image.load_img('data/train/'+train_csv['image_id'][i].astype('str')+'.jpg', target_size=(28,28,1), grayscale=True)\n",
        "    img = image.img_to_array(img)\n",
        "    img = img/255\n",
        "    train_image.append(img)\n",
        "X = np.array(train_image)"
      ],
      "execution_count": 54,
      "outputs": [
        {
          "output_type": "stream",
          "text": [
            "\r  0%|          | 0/18540 [00:00<?, ?it/s]\n"
          ],
          "name": "stderr"
        },
        {
          "output_type": "error",
          "ename": "TypeError",
          "evalue": "ignored",
          "traceback": [
            "\u001b[0;31m---------------------------------------------------------------------------\u001b[0m",
            "\u001b[0;31mTypeError\u001b[0m                                 Traceback (most recent call last)",
            "\u001b[0;32m<ipython-input-54-e6ac65ee7237>\u001b[0m in \u001b[0;36m<module>\u001b[0;34m()\u001b[0m\n\u001b[1;32m      2\u001b[0m \u001b[0;32mfor\u001b[0m \u001b[0mi\u001b[0m \u001b[0;32min\u001b[0m \u001b[0mtqdm\u001b[0m\u001b[0;34m(\u001b[0m\u001b[0mrange\u001b[0m\u001b[0;34m(\u001b[0m\u001b[0mtrain_csv\u001b[0m\u001b[0;34m.\u001b[0m\u001b[0mshape\u001b[0m\u001b[0;34m[\u001b[0m\u001b[0;36m0\u001b[0m\u001b[0;34m]\u001b[0m\u001b[0;34m)\u001b[0m\u001b[0;34m)\u001b[0m\u001b[0;34m:\u001b[0m\u001b[0;34m\u001b[0m\u001b[0;34m\u001b[0m\u001b[0m\n\u001b[1;32m      3\u001b[0m     \u001b[0mimg\u001b[0m \u001b[0;34m=\u001b[0m \u001b[0mimage\u001b[0m\u001b[0;34m.\u001b[0m\u001b[0mload_img\u001b[0m\u001b[0;34m(\u001b[0m\u001b[0;34m'data/train/'\u001b[0m\u001b[0;34m+\u001b[0m\u001b[0mtrain_csv\u001b[0m\u001b[0;34m[\u001b[0m\u001b[0;34m'image_id'\u001b[0m\u001b[0;34m]\u001b[0m\u001b[0;34m[\u001b[0m\u001b[0mi\u001b[0m\u001b[0;34m]\u001b[0m\u001b[0;34m.\u001b[0m\u001b[0mastype\u001b[0m\u001b[0;34m(\u001b[0m\u001b[0;34m'str'\u001b[0m\u001b[0;34m)\u001b[0m\u001b[0;34m+\u001b[0m\u001b[0;34m'.jpg'\u001b[0m\u001b[0;34m,\u001b[0m \u001b[0mtarget_size\u001b[0m\u001b[0;34m=\u001b[0m\u001b[0;34m(\u001b[0m\u001b[0;36m28\u001b[0m\u001b[0;34m,\u001b[0m\u001b[0;36m28\u001b[0m\u001b[0;34m,\u001b[0m\u001b[0;36m1\u001b[0m\u001b[0;34m)\u001b[0m\u001b[0;34m,\u001b[0m \u001b[0mgrayscale\u001b[0m\u001b[0;34m=\u001b[0m\u001b[0;32mTrue\u001b[0m\u001b[0;34m)\u001b[0m\u001b[0;34m\u001b[0m\u001b[0;34m\u001b[0m\u001b[0m\n\u001b[0;32m----> 4\u001b[0;31m     \u001b[0mimg\u001b[0m \u001b[0;34m=\u001b[0m \u001b[0mcv\u001b[0m\u001b[0;34m.\u001b[0m\u001b[0mflip\u001b[0m\u001b[0;34m(\u001b[0m\u001b[0mimg\u001b[0m\u001b[0;34m,\u001b[0m\u001b[0mflipCode\u001b[0m\u001b[0;34m=\u001b[0m\u001b[0;36m0\u001b[0m\u001b[0;34m)\u001b[0m\u001b[0;34m\u001b[0m\u001b[0;34m\u001b[0m\u001b[0m\n\u001b[0m\u001b[1;32m      5\u001b[0m     \u001b[0mimg\u001b[0m \u001b[0;34m=\u001b[0m \u001b[0mcv\u001b[0m\u001b[0;34m.\u001b[0m\u001b[0mrotate\u001b[0m\u001b[0;34m(\u001b[0m\u001b[0mimg\u001b[0m\u001b[0;34m,\u001b[0m \u001b[0mrotateCode\u001b[0m\u001b[0;34m=\u001b[0m\u001b[0mROTATE_90_CLOCKWISE\u001b[0m\u001b[0;34m)\u001b[0m\u001b[0;34m\u001b[0m\u001b[0;34m\u001b[0m\u001b[0m\n\u001b[1;32m      6\u001b[0m     \u001b[0mimg\u001b[0m \u001b[0;34m=\u001b[0m \u001b[0mimage\u001b[0m\u001b[0;34m.\u001b[0m\u001b[0mimg_to_array\u001b[0m\u001b[0;34m(\u001b[0m\u001b[0mimg\u001b[0m\u001b[0;34m)\u001b[0m\u001b[0;34m\u001b[0m\u001b[0;34m\u001b[0m\u001b[0m\n",
            "\u001b[0;31mTypeError\u001b[0m: src is not a numpy array, neither a scalar"
          ]
        }
      ]
    },
    {
      "cell_type": "code",
      "metadata": {
        "id": "om-2xgYi7WI8",
        "colab_type": "code",
        "colab": {}
      },
      "source": [
        "y=train_csv['category'].values\n",
        "y = to_categorical(y)"
      ],
      "execution_count": 0,
      "outputs": []
    },
    {
      "cell_type": "code",
      "metadata": {
        "id": "Bvb55zs28G6N",
        "colab_type": "code",
        "colab": {}
      },
      "source": [
        "X_train, X_test, y_train, y_test = train_test_split(X, y, random_state=42, test_size=0.2)"
      ],
      "execution_count": 0,
      "outputs": []
    },
    {
      "cell_type": "code",
      "metadata": {
        "id": "dy2uctFb8a4D",
        "colab_type": "code",
        "colab": {
          "base_uri": "https://localhost:8080/",
          "height": 34
        },
        "outputId": "04abdd61-d0fc-42d1-c02f-87b7ff481537"
      },
      "source": [
        "test_image = []\n",
        "for i in tqdm(range(test_csv.shape[0])):\n",
        "    img = image.load_img('data/test/'+test_csv['image_id'][i].astype('str')+'.jpg', target_size=(28,28,1), grayscale=True)\n",
        "    img = image.img_to_array(img)\n",
        "    img = img/255\n",
        "    test_image.append(img)\n",
        "test = np.array(test_image)"
      ],
      "execution_count": 28,
      "outputs": [
        {
          "output_type": "stream",
          "text": [
            "100%|██████████| 2009/2009 [00:10<00:00, 195.71it/s]\n"
          ],
          "name": "stderr"
        }
      ]
    },
    {
      "cell_type": "code",
      "metadata": {
        "id": "noxkco-DHQNp",
        "colab_type": "code",
        "colab": {}
      },
      "source": [
        "from keras.preprocessing.image import ImageDataGenerator\n",
        "from keras.optimizers import Adam"
      ],
      "execution_count": 0,
      "outputs": []
    },
    {
      "cell_type": "code",
      "metadata": {
        "id": "lTTGmIpWImIr",
        "colab_type": "code",
        "colab": {}
      },
      "source": [
        "#Data augmentaion process\n",
        "\n",
        "from keras.preprocessing.image import ImageDataGenerator\n",
        "\n",
        "datagen=ImageDataGenerator(width_shift_range=0.1,\n",
        "                  height_shift_range=0.1,\n",
        "                  zoom_range=0.2,\n",
        "                  shear_range=0.1,\n",
        "                  rotation_range=10)\n",
        "\n",
        "datagen.fit(X_train)"
      ],
      "execution_count": 0,
      "outputs": []
    },
    {
      "cell_type": "code",
      "metadata": {
        "id": "iUGCGnSlJeCd",
        "colab_type": "code",
        "colab": {}
      },
      "source": [
        "batches=datagen.flow(X_train,y_train,batch_size=1000)\n",
        "\n",
        "X_batch,y_batch=next(batches)"
      ],
      "execution_count": 0,
      "outputs": []
    },
    {
      "cell_type": "code",
      "metadata": {
        "id": "UEMhPRhfKLti",
        "colab_type": "code",
        "colab": {}
      },
      "source": [
        "def modified_model():\n",
        "  model=Sequential()\n",
        "  model.add(Conv2D(60,(5,5),input_shape=(28,28,1),activation='relu'))\n",
        "  model.add(Conv2D(60,(5,5),activation='relu'))\n",
        "  model.add(MaxPooling2D(pool_size=(2,2)))\n",
        "  #model.add(Dropout(0.5))\n",
        "  \n",
        "  model.add(Conv2D(30,(3,3),activation='relu'))\n",
        "  model.add(Conv2D(30,(3,3),activation='relu'))\n",
        "  model.add(MaxPooling2D(pool_size=(2,2)))\n",
        "  #model.add(Dropout(0.5))\n",
        "  \n",
        "  model.add(Flatten())\n",
        "  model.add(Dense(500,activation='relu'))\n",
        "  model.add(Dropout(0.5))\n",
        "  model.add(Dense(103,activation='softmax'))\n",
        "  #Compile Model\n",
        "  model.compile(Adam(lr=0.001),loss='categorical_crossentropy',metrics=['accuracy'])\n",
        "  return model"
      ],
      "execution_count": 0,
      "outputs": []
    },
    {
      "cell_type": "code",
      "metadata": {
        "id": "zO1JEi3SKRR8",
        "colab_type": "code",
        "colab": {
          "base_uri": "https://localhost:8080/",
          "height": 510
        },
        "outputId": "2582d9af-1402-441e-ddea-1134634ad03a"
      },
      "source": [
        "model =modified_model()\n",
        "print(model.summary())"
      ],
      "execution_count": 75,
      "outputs": [
        {
          "output_type": "stream",
          "text": [
            "Model: \"sequential_9\"\n",
            "_________________________________________________________________\n",
            "Layer (type)                 Output Shape              Param #   \n",
            "=================================================================\n",
            "conv2d_23 (Conv2D)           (None, 24, 24, 60)        1560      \n",
            "_________________________________________________________________\n",
            "conv2d_24 (Conv2D)           (None, 20, 20, 60)        90060     \n",
            "_________________________________________________________________\n",
            "max_pooling2d_12 (MaxPooling (None, 10, 10, 60)        0         \n",
            "_________________________________________________________________\n",
            "conv2d_25 (Conv2D)           (None, 8, 8, 30)          16230     \n",
            "_________________________________________________________________\n",
            "conv2d_26 (Conv2D)           (None, 6, 6, 30)          8130      \n",
            "_________________________________________________________________\n",
            "max_pooling2d_13 (MaxPooling (None, 3, 3, 30)          0         \n",
            "_________________________________________________________________\n",
            "flatten_9 (Flatten)          (None, 270)               0         \n",
            "_________________________________________________________________\n",
            "dense_16 (Dense)             (None, 500)               135500    \n",
            "_________________________________________________________________\n",
            "dropout_14 (Dropout)         (None, 500)               0         \n",
            "_________________________________________________________________\n",
            "dense_17 (Dense)             (None, 103)               51603     \n",
            "=================================================================\n",
            "Total params: 303,083\n",
            "Trainable params: 303,083\n",
            "Non-trainable params: 0\n",
            "_________________________________________________________________\n",
            "None\n"
          ],
          "name": "stdout"
        }
      ]
    },
    {
      "cell_type": "code",
      "metadata": {
        "id": "W2XfxQdOKR_A",
        "colab_type": "code",
        "colab": {
          "base_uri": "https://localhost:8080/",
          "height": 207
        },
        "outputId": "6d92b7fc-6444-4ef7-ee70-ff786b7725e9"
      },
      "source": [
        "history=model.fit_generator(datagen.flow(X_train,y_train,batch_size=50),steps_per_epoch=500,epochs=5,validation_data=(X_test,y_test),shuffle=1)"
      ],
      "execution_count": 80,
      "outputs": [
        {
          "output_type": "stream",
          "text": [
            "Epoch 1/5\n",
            "500/500 [==============================] - 222s 443ms/step - loss: 3.7154 - acc: 0.1344 - val_loss: 3.4603 - val_acc: 0.1810\n",
            "Epoch 2/5\n",
            "500/500 [==============================] - 234s 468ms/step - loss: 3.5487 - acc: 0.1625 - val_loss: 3.3772 - val_acc: 0.1980\n",
            "Epoch 3/5\n",
            "500/500 [==============================] - 253s 507ms/step - loss: 3.4262 - acc: 0.1805 - val_loss: 3.2647 - val_acc: 0.2182\n",
            "Epoch 4/5\n",
            "500/500 [==============================] - 254s 507ms/step - loss: 3.3204 - acc: 0.1989 - val_loss: 3.0888 - val_acc: 0.2532\n",
            "Epoch 5/5\n",
            "500/500 [==============================] - 251s 502ms/step - loss: 3.2215 - acc: 0.2168 - val_loss: 3.1416 - val_acc: 0.2441\n"
          ],
          "name": "stdout"
        }
      ]
    },
    {
      "cell_type": "code",
      "metadata": {
        "id": "fzINt_xrK5UD",
        "colab_type": "code",
        "colab": {}
      },
      "source": [
        "# making predictions\n",
        "prediction = model.predict_classes(test)"
      ],
      "execution_count": 0,
      "outputs": []
    },
    {
      "cell_type": "code",
      "metadata": {
        "id": "cASAPbKZLSrk",
        "colab_type": "code",
        "colab": {}
      },
      "source": [
        "# creating submission file\n",
        "samp_csv['category'] = prediction\n",
        "samp_csv.to_csv('sample_cnn2.csv', header=True, index=False)"
      ],
      "execution_count": 0,
      "outputs": []
    },
    {
      "cell_type": "code",
      "metadata": {
        "id": "ysC6cGIoLSot",
        "colab_type": "code",
        "colab": {}
      },
      "source": [
        ""
      ],
      "execution_count": 0,
      "outputs": []
    }
  ]
}